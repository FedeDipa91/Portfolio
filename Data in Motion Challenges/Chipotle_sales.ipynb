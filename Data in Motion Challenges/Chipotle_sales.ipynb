{
 "cells": [
  {
   "attachments": {},
   "cell_type": "markdown",
   "metadata": {},
   "source": [
    "**Scenario** <br>\n",
    "You are a financial data analyst at Chipotle and your manager has tasked you with analyzing the most recent sales numbers. She has provided the following set of questions she would like answered.<br>\n",
    "Thanks to Data in Motion - https://d-i-motion.com/lessons/challenge-1-chipotle-sales/"
   ]
  },
  {
   "cell_type": "code",
   "execution_count": 26,
   "metadata": {},
   "outputs": [
    {
     "name": "stdout",
     "output_type": "stream",
     "text": [
      "Preview of the data:\n",
      "   order_id  quantity                              item_name  \\\n",
      "0         1         1           Chips and Fresh Tomato Salsa   \n",
      "1         1         1                                   Izze   \n",
      "2         1         1                       Nantucket Nectar   \n",
      "3         1         1  Chips and Tomatillo-Green Chili Salsa   \n",
      "4         2         2                           Chicken Bowl   \n",
      "\n",
      "                                  choice_description item_price  \n",
      "0                                                NaN     $2.39   \n",
      "1                                       [Clementine]     $3.39   \n",
      "2                                            [Apple]     $3.39   \n",
      "3                                                NaN     $2.39   \n",
      "4  [Tomatillo-Red Chili Salsa (Hot), [Black Beans...    $16.98   \n"
     ]
    }
   ],
   "source": [
    "import pandas as pd\n",
    "\n",
    "# Read the TSV file using pandas\n",
    "df = pd.read_csv('chipotle.tsv', delimiter='\\t')\n",
    "\n",
    "# Display a preview of the DataFrame\n",
    "print(\"Preview of the data:\")\n",
    "print(df.head())\n",
    "\n",
    "# Group the data by the item_name column and sum the quantity for each item\n",
    "item_counts = df.groupby('item_name')['quantity'].sum()\n"
   ]
  },
  {
   "cell_type": "code",
   "execution_count": 27,
   "metadata": {},
   "outputs": [
    {
     "name": "stdout",
     "output_type": "stream",
     "text": [
      "The most-ordered item is: Chicken Bowl\n"
     ]
    }
   ],
   "source": [
    "# Find the item with the highest quantity\n",
    "most_ordered_item = item_counts.idxmax()\n",
    "\n",
    "# Print the result\n",
    "print(\"The most-ordered item is:\", most_ordered_item)\n"
   ]
  },
  {
   "cell_type": "code",
   "execution_count": 28,
   "metadata": {},
   "outputs": [
    {
     "name": "stdout",
     "output_type": "stream",
     "text": [
      "The most-ordered item is: Chicken Bowl\n",
      "Total quantity ordered: 761\n"
     ]
    }
   ],
   "source": [
    "# Filter the DataFrame for the most-ordered item\n",
    "most_ordered_item_df = df[df['item_name'] == most_ordered_item]\n",
    "\n",
    "# Calculate the total quantity for the most-ordered item\n",
    "total_ordered_quantity = most_ordered_item_df['quantity'].sum()\n",
    "\n",
    "# Print the result\n",
    "print(\"The most-ordered item is:\", most_ordered_item)\n",
    "print(\"Total quantity ordered:\", total_ordered_quantity)\n"
   ]
  },
  {
   "cell_type": "code",
   "execution_count": 29,
   "metadata": {},
   "outputs": [
    {
     "name": "stdout",
     "output_type": "stream",
     "text": [
      "The most ordered item in the choice_description column is: [Diet Coke]\n"
     ]
    }
   ],
   "source": [
    "# Find the most ordered item in the choice_description column\n",
    "most_ordered_item = df['choice_description'].value_counts().idxmax()\n",
    "\n",
    "# Print the result\n",
    "print(\"The most ordered item in the choice_description column is:\", most_ordered_item)\n"
   ]
  },
  {
   "cell_type": "code",
   "execution_count": 30,
   "metadata": {},
   "outputs": [
    {
     "name": "stdout",
     "output_type": "stream",
     "text": [
      "The total number of items ordered is: 4972\n"
     ]
    }
   ],
   "source": [
    "total_items_ordered = df['quantity'].sum()\n",
    "\n",
    "# Print the result\n",
    "print(\"The total number of items ordered is:\", total_items_ordered)\n"
   ]
  },
  {
   "cell_type": "code",
   "execution_count": 31,
   "metadata": {},
   "outputs": [
    {
     "name": "stdout",
     "output_type": "stream",
     "text": [
      "   order_id  quantity                              item_name  \\\n",
      "0         1         1           Chips and Fresh Tomato Salsa   \n",
      "1         1         1                                   Izze   \n",
      "2         1         1                       Nantucket Nectar   \n",
      "3         1         1  Chips and Tomatillo-Green Chili Salsa   \n",
      "4         2         2                           Chicken Bowl   \n",
      "\n",
      "                                  choice_description  item_price  \n",
      "0                                                NaN        2.39  \n",
      "1                                       [Clementine]        3.39  \n",
      "2                                            [Apple]        3.39  \n",
      "3                                                NaN        2.39  \n",
      "4  [Tomatillo-Red Chili Salsa (Hot), [Black Beans...       16.98  \n"
     ]
    }
   ],
   "source": [
    "#Turn the item price into a float\n",
    "df['item_price'] = df['item_price'].str.replace('$', '').astype(float)\n",
    "\n",
    "# Print the updated DataFrame\n",
    "print(df.head())\n"
   ]
  },
  {
   "cell_type": "code",
   "execution_count": 32,
   "metadata": {},
   "outputs": [
    {
     "name": "stdout",
     "output_type": "stream",
     "text": [
      "Total revenue: 39237.02\n"
     ]
    }
   ],
   "source": [
    "revenue = (df['item_price'] * df['quantity']).sum()\n",
    "\n",
    "# Print the total revenue\n",
    "print(\"Total revenue:\", revenue)\n"
   ]
  },
  {
   "cell_type": "code",
   "execution_count": 34,
   "metadata": {},
   "outputs": [
    {
     "name": "stdout",
     "output_type": "stream",
     "text": [
      "Total number of orders: 1834\n"
     ]
    }
   ],
   "source": [
    "num_orders = df['order_id'].nunique()\n",
    "\n",
    "# Print the total number of orders\n",
    "print(\"Total number of orders:\", num_orders)\n"
   ]
  },
  {
   "cell_type": "code",
   "execution_count": 37,
   "metadata": {},
   "outputs": [
    {
     "name": "stdout",
     "output_type": "stream",
     "text": [
      "Average revenue per order: $18.81\n"
     ]
    }
   ],
   "source": [
    "average_revenue_per_order = df['item_price'].sum() / num_orders\n",
    "\n",
    "# Round the average revenue per order to two decimal places\n",
    "average_revenue_per_order = round(average_revenue_per_order, 2)\n",
    "\n",
    "# Print the average revenue per order\n",
    "print(\"Average revenue per order: ${:.2f}\".format(average_revenue_per_order))\n"
   ]
  },
  {
   "cell_type": "code",
   "execution_count": 38,
   "metadata": {},
   "outputs": [
    {
     "name": "stdout",
     "output_type": "stream",
     "text": [
      "Number of different items sold: 50\n"
     ]
    }
   ],
   "source": [
    "num_different_items = len(df['item_name'].unique())\n",
    "\n",
    "# Print the number of different items sold\n",
    "print(\"Number of different items sold:\", num_different_items)\n"
   ]
  }
 ],
 "metadata": {
  "kernelspec": {
   "display_name": "Python 3",
   "language": "python",
   "name": "python3"
  },
  "language_info": {
   "codemirror_mode": {
    "name": "ipython",
    "version": 3
   },
   "file_extension": ".py",
   "mimetype": "text/x-python",
   "name": "python",
   "nbconvert_exporter": "python",
   "pygments_lexer": "ipython3",
   "version": "3.11.4"
  },
  "orig_nbformat": 4
 },
 "nbformat": 4,
 "nbformat_minor": 2
}
