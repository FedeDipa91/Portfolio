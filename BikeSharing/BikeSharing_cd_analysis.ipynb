{
 "cells": [
  {
   "cell_type": "markdown",
   "id": "c214ee22",
   "metadata": {},
   "source": [
    "### Tareas pendientes\n",
    "14/05/2023\n",
    "- Agregar titulos y subtitulos a los graficos \n",
    "- Copiar el codigo de SQL\n",
    "- Cambiar nombre de variables de graficos\n",
    "- Decidir que medida de dispersion usar\n",
    "- Agregar dato de temperatura promedio de la ciudad"
   ]
  },
  {
   "cell_type": "markdown",
   "id": "065090d4",
   "metadata": {},
   "source": [
    "# BikeSharing 2022"
   ]
  },
  {
   "cell_type": "markdown",
   "id": "1bab339a",
   "metadata": {},
   "source": [
    "- Trip duration average and SD, for user type by months of the year, days of the weeks and hours.\n",
    "- Trip count and SD, for user type by months of the year, days of the week and hours.\n",
    "- Optional : Try to find a correlation between top start and ending stations with turistic areas.\n"
   ]
  },
  {
   "cell_type": "markdown",
   "id": "fb3cbb47",
   "metadata": {},
   "source": [
    "### Import modules\n"
   ]
  },
  {
   "cell_type": "code",
   "execution_count": 91,
   "id": "f9bd454b",
   "metadata": {},
   "outputs": [],
   "source": [
    "import pandas as pd\n",
    "import matplotlib as plt\n",
    "import seaborn as sns\n",
    "import datetime as dt"
   ]
  },
  {
   "cell_type": "markdown",
   "id": "1c512214",
   "metadata": {},
   "source": [
    "### Import csv file previously cleaned in MySQL\n"
   ]
  },
  {
   "cell_type": "code",
   "execution_count": 22,
   "id": "71ec5585",
   "metadata": {},
   "outputs": [],
   "source": [
    "path = '2022_tripdata_v2.csv'\n",
    "\n",
    "trips = pd.read_csv(path)\n"
   ]
  },
  {
   "cell_type": "code",
   "execution_count": 23,
   "id": "2f90f8d0",
   "metadata": {},
   "outputs": [
    {
     "data": {
      "text/html": [
       "<div>\n",
       "<style scoped>\n",
       "    .dataframe tbody tr th:only-of-type {\n",
       "        vertical-align: middle;\n",
       "    }\n",
       "\n",
       "    .dataframe tbody tr th {\n",
       "        vertical-align: top;\n",
       "    }\n",
       "\n",
       "    .dataframe thead th {\n",
       "        text-align: right;\n",
       "    }\n",
       "</style>\n",
       "<table border=\"1\" class=\"dataframe\">\n",
       "  <thead>\n",
       "    <tr style=\"text-align: right;\">\n",
       "      <th></th>\n",
       "      <th>ride_id</th>\n",
       "      <th>rideable_type</th>\n",
       "      <th>start_datetime</th>\n",
       "      <th>start_date</th>\n",
       "      <th>start_month</th>\n",
       "      <th>start_weekday</th>\n",
       "      <th>start_time</th>\n",
       "      <th>end_datetime</th>\n",
       "      <th>end_date</th>\n",
       "      <th>end_month</th>\n",
       "      <th>end_weekday</th>\n",
       "      <th>end_time</th>\n",
       "      <th>start_station_name</th>\n",
       "      <th>end_station_name</th>\n",
       "      <th>user_type</th>\n",
       "      <th>trip_duration</th>\n",
       "    </tr>\n",
       "  </thead>\n",
       "  <tbody>\n",
       "    <tr>\n",
       "      <th>0</th>\n",
       "      <td>C2F7DD78E82EC875</td>\n",
       "      <td>electric_bike</td>\n",
       "      <td>2022-01-13 11:59:47</td>\n",
       "      <td>2022-01-13</td>\n",
       "      <td>January</td>\n",
       "      <td>Thursday</td>\n",
       "      <td>11:59:47</td>\n",
       "      <td>2022-01-13 12:02:44</td>\n",
       "      <td>2022-01-13</td>\n",
       "      <td>January</td>\n",
       "      <td>Thursday</td>\n",
       "      <td>12:02:44</td>\n",
       "      <td>Glenwood Ave &amp; Touhy Ave</td>\n",
       "      <td>Clark St &amp; Touhy Ave</td>\n",
       "      <td>casual</td>\n",
       "      <td>2</td>\n",
       "    </tr>\n",
       "    <tr>\n",
       "      <th>1</th>\n",
       "      <td>A6CF8980A652D272</td>\n",
       "      <td>electric_bike</td>\n",
       "      <td>2022-01-10 08:41:56</td>\n",
       "      <td>2022-01-10</td>\n",
       "      <td>January</td>\n",
       "      <td>Monday</td>\n",
       "      <td>08:41:56</td>\n",
       "      <td>2022-01-10 08:46:17</td>\n",
       "      <td>2022-01-10</td>\n",
       "      <td>January</td>\n",
       "      <td>Monday</td>\n",
       "      <td>08:46:17</td>\n",
       "      <td>Glenwood Ave &amp; Touhy Ave</td>\n",
       "      <td>Clark St &amp; Touhy Ave</td>\n",
       "      <td>casual</td>\n",
       "      <td>4</td>\n",
       "    </tr>\n",
       "    <tr>\n",
       "      <th>2</th>\n",
       "      <td>BD0F91DFF741C66D</td>\n",
       "      <td>classic_bike</td>\n",
       "      <td>2022-01-25 04:53:40</td>\n",
       "      <td>2022-01-25</td>\n",
       "      <td>January</td>\n",
       "      <td>Tuesday</td>\n",
       "      <td>04:53:40</td>\n",
       "      <td>2022-01-25 04:58:01</td>\n",
       "      <td>2022-01-25</td>\n",
       "      <td>January</td>\n",
       "      <td>Tuesday</td>\n",
       "      <td>04:58:01</td>\n",
       "      <td>Sheffield Ave &amp; Fullerton Ave</td>\n",
       "      <td>Greenview Ave &amp; Fullerton Ave</td>\n",
       "      <td>member</td>\n",
       "      <td>4</td>\n",
       "    </tr>\n",
       "    <tr>\n",
       "      <th>3</th>\n",
       "      <td>CBB80ED419105406</td>\n",
       "      <td>classic_bike</td>\n",
       "      <td>2022-01-04 00:18:04</td>\n",
       "      <td>2022-01-04</td>\n",
       "      <td>January</td>\n",
       "      <td>Tuesday</td>\n",
       "      <td>00:18:04</td>\n",
       "      <td>2022-01-04 00:33:00</td>\n",
       "      <td>2022-01-04</td>\n",
       "      <td>January</td>\n",
       "      <td>Tuesday</td>\n",
       "      <td>00:33:00</td>\n",
       "      <td>Clark St &amp; Bryn Mawr Ave</td>\n",
       "      <td>Paulina St &amp; Montrose Ave</td>\n",
       "      <td>casual</td>\n",
       "      <td>14</td>\n",
       "    </tr>\n",
       "    <tr>\n",
       "      <th>4</th>\n",
       "      <td>DDC963BFDDA51EEA</td>\n",
       "      <td>classic_bike</td>\n",
       "      <td>2022-01-20 01:31:10</td>\n",
       "      <td>2022-01-20</td>\n",
       "      <td>January</td>\n",
       "      <td>Thursday</td>\n",
       "      <td>01:31:10</td>\n",
       "      <td>2022-01-20 01:37:12</td>\n",
       "      <td>2022-01-20</td>\n",
       "      <td>January</td>\n",
       "      <td>Thursday</td>\n",
       "      <td>01:37:12</td>\n",
       "      <td>Michigan Ave &amp; Jackson Blvd</td>\n",
       "      <td>State St &amp; Randolph St</td>\n",
       "      <td>member</td>\n",
       "      <td>6</td>\n",
       "    </tr>\n",
       "  </tbody>\n",
       "</table>\n",
       "</div>"
      ],
      "text/plain": [
       "            ride_id  rideable_type       start_datetime  start_date  \\\n",
       "0  C2F7DD78E82EC875  electric_bike  2022-01-13 11:59:47  2022-01-13   \n",
       "1  A6CF8980A652D272  electric_bike  2022-01-10 08:41:56  2022-01-10   \n",
       "2  BD0F91DFF741C66D   classic_bike  2022-01-25 04:53:40  2022-01-25   \n",
       "3  CBB80ED419105406   classic_bike  2022-01-04 00:18:04  2022-01-04   \n",
       "4  DDC963BFDDA51EEA   classic_bike  2022-01-20 01:31:10  2022-01-20   \n",
       "\n",
       "  start_month start_weekday start_time         end_datetime    end_date  \\\n",
       "0     January      Thursday   11:59:47  2022-01-13 12:02:44  2022-01-13   \n",
       "1     January        Monday   08:41:56  2022-01-10 08:46:17  2022-01-10   \n",
       "2     January       Tuesday   04:53:40  2022-01-25 04:58:01  2022-01-25   \n",
       "3     January       Tuesday   00:18:04  2022-01-04 00:33:00  2022-01-04   \n",
       "4     January      Thursday   01:31:10  2022-01-20 01:37:12  2022-01-20   \n",
       "\n",
       "  end_month end_weekday  end_time             start_station_name  \\\n",
       "0   January    Thursday  12:02:44       Glenwood Ave & Touhy Ave   \n",
       "1   January      Monday  08:46:17       Glenwood Ave & Touhy Ave   \n",
       "2   January     Tuesday  04:58:01  Sheffield Ave & Fullerton Ave   \n",
       "3   January     Tuesday  00:33:00       Clark St & Bryn Mawr Ave   \n",
       "4   January    Thursday  01:37:12    Michigan Ave & Jackson Blvd   \n",
       "\n",
       "                end_station_name user_type  trip_duration  \n",
       "0           Clark St & Touhy Ave    casual              2  \n",
       "1           Clark St & Touhy Ave    casual              4  \n",
       "2  Greenview Ave & Fullerton Ave    member              4  \n",
       "3      Paulina St & Montrose Ave    casual             14  \n",
       "4         State St & Randolph St    member              6  "
      ]
     },
     "execution_count": 23,
     "metadata": {},
     "output_type": "execute_result"
    }
   ],
   "source": [
    "trips.head()"
   ]
  },
  {
   "cell_type": "markdown",
   "id": "382f99e9",
   "metadata": {},
   "source": [
    "### Transform datatypes "
   ]
  },
  {
   "cell_type": "code",
   "execution_count": 37,
   "id": "9eae0067",
   "metadata": {},
   "outputs": [],
   "source": [
    "# Modify data types \n",
    "trips['start_datetime'] = pd.to_datetime(trips['start_datetime'], format='%Y-%m-%d %H:%M:%S')\n",
    "trips['end_datetime'] = pd.to_datetime(trips['end_datetime'], format='%Y-%m-%d %H:%M:%S')\n"
   ]
  },
  {
   "cell_type": "code",
   "execution_count": 38,
   "id": "e3666351",
   "metadata": {},
   "outputs": [
    {
     "name": "stdout",
     "output_type": "stream",
     "text": [
      "<class 'pandas.core.frame.DataFrame'>\n",
      "RangeIndex: 5440114 entries, 0 to 5440113\n",
      "Data columns (total 16 columns):\n",
      " #   Column              Dtype         \n",
      "---  ------              -----         \n",
      " 0   ride_id             object        \n",
      " 1   rideable_type       object        \n",
      " 2   start_datetime      datetime64[ns]\n",
      " 3   start_date          object        \n",
      " 4   start_month         object        \n",
      " 5   start_weekday       object        \n",
      " 6   start_time          object        \n",
      " 7   end_datetime        datetime64[ns]\n",
      " 8   end_date            object        \n",
      " 9   end_month           object        \n",
      " 10  end_weekday         object        \n",
      " 11  end_time            object        \n",
      " 12  start_station_name  object        \n",
      " 13  end_station_name    object        \n",
      " 14  user_type           object        \n",
      " 15  trip_duration       int64         \n",
      "dtypes: datetime64[ns](2), int64(1), object(13)\n",
      "memory usage: 664.1+ MB\n"
     ]
    }
   ],
   "source": [
    "# Glimpse of the dataset\n",
    "trips.info()"
   ]
  },
  {
   "cell_type": "markdown",
   "id": "19090422",
   "metadata": {},
   "source": [
    "### Trips count by month grouped by usertype"
   ]
  },
  {
   "cell_type": "code",
   "execution_count": 84,
   "id": "6ff4960c",
   "metadata": {},
   "outputs": [
    {
     "data": {
      "text/plain": [
       "<seaborn.axisgrid.FacetGrid at 0x1e3526ac160>"
      ]
     },
     "execution_count": 84,
     "metadata": {},
     "output_type": "execute_result"
    },
    {
     "data": {
      "image/png": "[encoded data removed]",
      "text/plain": [
       "<Figure size 855.475x432 with 1 Axes>"
      ]
     },
     "metadata": {
      "needs_background": "light"
     },
     "output_type": "display_data"
    }
   ],
   "source": [
    "g = sns.catplot(data=trips, kind=\"count\", x=\"start_month\", hue=\"user_type\", \n",
    "                palette='husl', alpha=0.8, height=6, aspect = 1.8)\n",
    "g.set(xlabel=\"Start Month\", ylabel=\"Total Rides\")\n",
    "g.set_xticklabels(rotation=30, ha=\"center\")"
   ]
  },
  {
   "cell_type": "markdown",
   "id": "22a3e9a1",
   "metadata": {},
   "source": [
    "### Count of total trips by weekday and grouped by user type"
   ]
  },
  {
   "cell_type": "code",
   "execution_count": 83,
   "id": "51ea8175",
   "metadata": {},
   "outputs": [
    {
     "data": {
      "text/plain": [
       "<seaborn.axisgrid.FacetGrid at 0x1e3524391c0>"
      ]
     },
     "execution_count": 83,
     "metadata": {},
     "output_type": "execute_result"
    },
    {
     "data": {
      "image/png": "[encoded data removed]",
      "text/plain": [
       "<Figure size 855.475x432 with 1 Axes>"
      ]
     },
     "metadata": {
      "needs_background": "light"
     },
     "output_type": "display_data"
    }
   ],
   "source": [
    "\n",
    "weekdays_order = [\"Monday\", \"Tuesday\", \"Wednesday\", \"Thursday\", \"Friday\", \"Sunday\", \"Saturday\"]\n",
    "\n",
    "g = sns.catplot(data=trips, kind=\"count\", x=\"start_weekday\", hue=\"user_type\", \n",
    "                order=weekdays_order, palette='husl', alpha=0.8, height=6, aspect=1.8)\n",
    "g.set(xlabel=\"Start Weekday\", ylabel=\"Total Rides\")\n",
    "g.set_xticklabels(rotation=30, ha=\"center\")\n"
   ]
  },
  {
   "cell_type": "code",
   "execution_count": 28,
   "id": "8754b9f1",
   "metadata": {},
   "outputs": [
    {
     "data": {
      "text/html": [
       "<div>\n",
       "<style scoped>\n",
       "    .dataframe tbody tr th:only-of-type {\n",
       "        vertical-align: middle;\n",
       "    }\n",
       "\n",
       "    .dataframe tbody tr th {\n",
       "        vertical-align: top;\n",
       "    }\n",
       "\n",
       "    .dataframe thead th {\n",
       "        text-align: right;\n",
       "    }\n",
       "</style>\n",
       "<table border=\"1\" class=\"dataframe\">\n",
       "  <thead>\n",
       "    <tr style=\"text-align: right;\">\n",
       "      <th></th>\n",
       "      <th>user_type</th>\n",
       "      <th>start_weekday</th>\n",
       "      <th>start_date</th>\n",
       "      <th>count</th>\n",
       "    </tr>\n",
       "  </thead>\n",
       "  <tbody>\n",
       "    <tr>\n",
       "      <th>0</th>\n",
       "      <td>casual</td>\n",
       "      <td>Friday</td>\n",
       "      <td>2022-01-07</td>\n",
       "      <td>392</td>\n",
       "    </tr>\n",
       "    <tr>\n",
       "      <th>1</th>\n",
       "      <td>casual</td>\n",
       "      <td>Friday</td>\n",
       "      <td>2022-01-14</td>\n",
       "      <td>908</td>\n",
       "    </tr>\n",
       "    <tr>\n",
       "      <th>2</th>\n",
       "      <td>casual</td>\n",
       "      <td>Friday</td>\n",
       "      <td>2022-01-21</td>\n",
       "      <td>783</td>\n",
       "    </tr>\n",
       "    <tr>\n",
       "      <th>3</th>\n",
       "      <td>casual</td>\n",
       "      <td>Friday</td>\n",
       "      <td>2022-01-28</td>\n",
       "      <td>277</td>\n",
       "    </tr>\n",
       "    <tr>\n",
       "      <th>4</th>\n",
       "      <td>casual</td>\n",
       "      <td>Friday</td>\n",
       "      <td>2022-02-04</td>\n",
       "      <td>463</td>\n",
       "    </tr>\n",
       "    <tr>\n",
       "      <th>...</th>\n",
       "      <td>...</td>\n",
       "      <td>...</td>\n",
       "      <td>...</td>\n",
       "      <td>...</td>\n",
       "    </tr>\n",
       "    <tr>\n",
       "      <th>725</th>\n",
       "      <td>member</td>\n",
       "      <td>Wednesday</td>\n",
       "      <td>2022-11-30</td>\n",
       "      <td>5954</td>\n",
       "    </tr>\n",
       "    <tr>\n",
       "      <th>726</th>\n",
       "      <td>member</td>\n",
       "      <td>Wednesday</td>\n",
       "      <td>2022-12-07</td>\n",
       "      <td>8235</td>\n",
       "    </tr>\n",
       "    <tr>\n",
       "      <th>727</th>\n",
       "      <td>member</td>\n",
       "      <td>Wednesday</td>\n",
       "      <td>2022-12-14</td>\n",
       "      <td>3265</td>\n",
       "    </tr>\n",
       "    <tr>\n",
       "      <th>728</th>\n",
       "      <td>member</td>\n",
       "      <td>Wednesday</td>\n",
       "      <td>2022-12-21</td>\n",
       "      <td>4586</td>\n",
       "    </tr>\n",
       "    <tr>\n",
       "      <th>729</th>\n",
       "      <td>member</td>\n",
       "      <td>Wednesday</td>\n",
       "      <td>2022-12-28</td>\n",
       "      <td>3021</td>\n",
       "    </tr>\n",
       "  </tbody>\n",
       "</table>\n",
       "<p>730 rows × 4 columns</p>\n",
       "</div>"
      ],
      "text/plain": [
       "    user_type start_weekday  start_date  count\n",
       "0      casual        Friday  2022-01-07    392\n",
       "1      casual        Friday  2022-01-14    908\n",
       "2      casual        Friday  2022-01-21    783\n",
       "3      casual        Friday  2022-01-28    277\n",
       "4      casual        Friday  2022-02-04    463\n",
       "..        ...           ...         ...    ...\n",
       "725    member     Wednesday  2022-11-30   5954\n",
       "726    member     Wednesday  2022-12-07   8235\n",
       "727    member     Wednesday  2022-12-14   3265\n",
       "728    member     Wednesday  2022-12-21   4586\n",
       "729    member     Wednesday  2022-12-28   3021\n",
       "\n",
       "[730 rows x 4 columns]"
      ]
     },
     "execution_count": 28,
     "metadata": {},
     "output_type": "execute_result"
    }
   ],
   "source": [
    "# To plot average for each day of the week, we need to make a groupby to calculate the count and mean. \n",
    "\n",
    "days =pd.DataFrame(trips.groupby(['user_type', 'start_weekday', 'start_date']).size().reset_index(name='count'))\n",
    "days"
   ]
  },
  {
   "cell_type": "markdown",
   "id": "00117c62",
   "metadata": {},
   "source": [
    "### Average trips by day and user type"
   ]
  },
  {
   "cell_type": "code",
   "execution_count": 82,
   "id": "5c84be05",
   "metadata": {},
   "outputs": [
    {
     "data": {
      "text/plain": [
       "<seaborn.axisgrid.FacetGrid at 0x1e349642850>"
      ]
     },
     "execution_count": 82,
     "metadata": {},
     "output_type": "execute_result"
    },
    {
     "data": {
      "image/png": "[encoded data removed]",
      "text/plain": [
       "<Figure size 855.475x432 with 1 Axes>"
      ]
     },
     "metadata": {
      "needs_background": "light"
     },
     "output_type": "display_data"
    }
   ],
   "source": [
    "order = ['Monday', 'Tuesday', 'Wednesday', 'Thursday', 'Friday', 'Saturday', 'Sunday']\n",
    "x = sns.catplot(data=days, kind='bar', x='start_weekday', y='count', hue='user_type', ci = 'sd',\n",
    "                order = order, height=6, aspect=1.8, alpha=0.9, palette='husl')\n",
    "x.set(xlabel='Day of the Week', ylabel='Avg number of rides')\n",
    "x.set_xticklabels(rotation=30, ha='center')\n"
   ]
  },
  {
   "cell_type": "markdown",
   "id": "b8e76798",
   "metadata": {},
   "source": [
    "### Average trip duration by hours of the day"
   ]
  },
  {
   "cell_type": "code",
   "execution_count": 39,
   "id": "572d024f",
   "metadata": {},
   "outputs": [
    {
     "data": {
      "text/html": [
       "<div>\n",
       "<style scoped>\n",
       "    .dataframe tbody tr th:only-of-type {\n",
       "        vertical-align: middle;\n",
       "    }\n",
       "\n",
       "    .dataframe tbody tr th {\n",
       "        vertical-align: top;\n",
       "    }\n",
       "\n",
       "    .dataframe thead th {\n",
       "        text-align: right;\n",
       "    }\n",
       "</style>\n",
       "<table border=\"1\" class=\"dataframe\">\n",
       "  <thead>\n",
       "    <tr style=\"text-align: right;\">\n",
       "      <th></th>\n",
       "      <th>ride_id</th>\n",
       "      <th>rideable_type</th>\n",
       "      <th>start_datetime</th>\n",
       "      <th>start_date</th>\n",
       "      <th>start_month</th>\n",
       "      <th>start_weekday</th>\n",
       "      <th>start_time</th>\n",
       "      <th>end_datetime</th>\n",
       "      <th>end_date</th>\n",
       "      <th>end_month</th>\n",
       "      <th>end_weekday</th>\n",
       "      <th>end_time</th>\n",
       "      <th>start_station_name</th>\n",
       "      <th>end_station_name</th>\n",
       "      <th>user_type</th>\n",
       "      <th>trip_duration</th>\n",
       "      <th>started_hour</th>\n",
       "    </tr>\n",
       "  </thead>\n",
       "  <tbody>\n",
       "    <tr>\n",
       "      <th>0</th>\n",
       "      <td>C2F7DD78E82EC875</td>\n",
       "      <td>electric_bike</td>\n",
       "      <td>2022-01-13 11:59:47</td>\n",
       "      <td>2022-01-13</td>\n",
       "      <td>January</td>\n",
       "      <td>Thursday</td>\n",
       "      <td>11:59:47</td>\n",
       "      <td>2022-01-13 12:02:44</td>\n",
       "      <td>2022-01-13</td>\n",
       "      <td>January</td>\n",
       "      <td>Thursday</td>\n",
       "      <td>12:02:44</td>\n",
       "      <td>Glenwood Ave &amp; Touhy Ave</td>\n",
       "      <td>Clark St &amp; Touhy Ave</td>\n",
       "      <td>casual</td>\n",
       "      <td>2</td>\n",
       "      <td>11</td>\n",
       "    </tr>\n",
       "    <tr>\n",
       "      <th>1</th>\n",
       "      <td>A6CF8980A652D272</td>\n",
       "      <td>electric_bike</td>\n",
       "      <td>2022-01-10 08:41:56</td>\n",
       "      <td>2022-01-10</td>\n",
       "      <td>January</td>\n",
       "      <td>Monday</td>\n",
       "      <td>08:41:56</td>\n",
       "      <td>2022-01-10 08:46:17</td>\n",
       "      <td>2022-01-10</td>\n",
       "      <td>January</td>\n",
       "      <td>Monday</td>\n",
       "      <td>08:46:17</td>\n",
       "      <td>Glenwood Ave &amp; Touhy Ave</td>\n",
       "      <td>Clark St &amp; Touhy Ave</td>\n",
       "      <td>casual</td>\n",
       "      <td>4</td>\n",
       "      <td>8</td>\n",
       "    </tr>\n",
       "    <tr>\n",
       "      <th>2</th>\n",
       "      <td>BD0F91DFF741C66D</td>\n",
       "      <td>classic_bike</td>\n",
       "      <td>2022-01-25 04:53:40</td>\n",
       "      <td>2022-01-25</td>\n",
       "      <td>January</td>\n",
       "      <td>Tuesday</td>\n",
       "      <td>04:53:40</td>\n",
       "      <td>2022-01-25 04:58:01</td>\n",
       "      <td>2022-01-25</td>\n",
       "      <td>January</td>\n",
       "      <td>Tuesday</td>\n",
       "      <td>04:58:01</td>\n",
       "      <td>Sheffield Ave &amp; Fullerton Ave</td>\n",
       "      <td>Greenview Ave &amp; Fullerton Ave</td>\n",
       "      <td>member</td>\n",
       "      <td>4</td>\n",
       "      <td>4</td>\n",
       "    </tr>\n",
       "    <tr>\n",
       "      <th>3</th>\n",
       "      <td>CBB80ED419105406</td>\n",
       "      <td>classic_bike</td>\n",
       "      <td>2022-01-04 00:18:04</td>\n",
       "      <td>2022-01-04</td>\n",
       "      <td>January</td>\n",
       "      <td>Tuesday</td>\n",
       "      <td>00:18:04</td>\n",
       "      <td>2022-01-04 00:33:00</td>\n",
       "      <td>2022-01-04</td>\n",
       "      <td>January</td>\n",
       "      <td>Tuesday</td>\n",
       "      <td>00:33:00</td>\n",
       "      <td>Clark St &amp; Bryn Mawr Ave</td>\n",
       "      <td>Paulina St &amp; Montrose Ave</td>\n",
       "      <td>casual</td>\n",
       "      <td>14</td>\n",
       "      <td>0</td>\n",
       "    </tr>\n",
       "    <tr>\n",
       "      <th>4</th>\n",
       "      <td>DDC963BFDDA51EEA</td>\n",
       "      <td>classic_bike</td>\n",
       "      <td>2022-01-20 01:31:10</td>\n",
       "      <td>2022-01-20</td>\n",
       "      <td>January</td>\n",
       "      <td>Thursday</td>\n",
       "      <td>01:31:10</td>\n",
       "      <td>2022-01-20 01:37:12</td>\n",
       "      <td>2022-01-20</td>\n",
       "      <td>January</td>\n",
       "      <td>Thursday</td>\n",
       "      <td>01:37:12</td>\n",
       "      <td>Michigan Ave &amp; Jackson Blvd</td>\n",
       "      <td>State St &amp; Randolph St</td>\n",
       "      <td>member</td>\n",
       "      <td>6</td>\n",
       "      <td>1</td>\n",
       "    </tr>\n",
       "  </tbody>\n",
       "</table>\n",
       "</div>"
      ],
      "text/plain": [
       "            ride_id  rideable_type      start_datetime  start_date  \\\n",
       "0  C2F7DD78E82EC875  electric_bike 2022-01-13 11:59:47  2022-01-13   \n",
       "1  A6CF8980A652D272  electric_bike 2022-01-10 08:41:56  2022-01-10   \n",
       "2  BD0F91DFF741C66D   classic_bike 2022-01-25 04:53:40  2022-01-25   \n",
       "3  CBB80ED419105406   classic_bike 2022-01-04 00:18:04  2022-01-04   \n",
       "4  DDC963BFDDA51EEA   classic_bike 2022-01-20 01:31:10  2022-01-20   \n",
       "\n",
       "  start_month start_weekday start_time        end_datetime    end_date  \\\n",
       "0     January      Thursday   11:59:47 2022-01-13 12:02:44  2022-01-13   \n",
       "1     January        Monday   08:41:56 2022-01-10 08:46:17  2022-01-10   \n",
       "2     January       Tuesday   04:53:40 2022-01-25 04:58:01  2022-01-25   \n",
       "3     January       Tuesday   00:18:04 2022-01-04 00:33:00  2022-01-04   \n",
       "4     January      Thursday   01:31:10 2022-01-20 01:37:12  2022-01-20   \n",
       "\n",
       "  end_month end_weekday  end_time             start_station_name  \\\n",
       "0   January    Thursday  12:02:44       Glenwood Ave & Touhy Ave   \n",
       "1   January      Monday  08:46:17       Glenwood Ave & Touhy Ave   \n",
       "2   January     Tuesday  04:58:01  Sheffield Ave & Fullerton Ave   \n",
       "3   January     Tuesday  00:33:00       Clark St & Bryn Mawr Ave   \n",
       "4   January    Thursday  01:37:12    Michigan Ave & Jackson Blvd   \n",
       "\n",
       "                end_station_name user_type  trip_duration  started_hour  \n",
       "0           Clark St & Touhy Ave    casual              2            11  \n",
       "1           Clark St & Touhy Ave    casual              4             8  \n",
       "2  Greenview Ave & Fullerton Ave    member              4             4  \n",
       "3      Paulina St & Montrose Ave    casual             14             0  \n",
       "4         State St & Randolph St    member              6             1  "
      ]
     },
     "execution_count": 39,
     "metadata": {},
     "output_type": "execute_result"
    }
   ],
   "source": [
    "#Extracting hour frome start_datetime\n",
    "\n",
    "trips['started_hour'] = trips['start_datetime'].dt.hour\n",
    "trips.head()"
   ]
  },
  {
   "cell_type": "code",
   "execution_count": 42,
   "id": "837d8bab",
   "metadata": {},
   "outputs": [
    {
     "data": {
      "text/html": [
       "<div>\n",
       "<style scoped>\n",
       "    .dataframe tbody tr th:only-of-type {\n",
       "        vertical-align: middle;\n",
       "    }\n",
       "\n",
       "    .dataframe tbody tr th {\n",
       "        vertical-align: top;\n",
       "    }\n",
       "\n",
       "    .dataframe thead th {\n",
       "        text-align: right;\n",
       "    }\n",
       "</style>\n",
       "<table border=\"1\" class=\"dataframe\">\n",
       "  <thead>\n",
       "    <tr style=\"text-align: right;\">\n",
       "      <th></th>\n",
       "      <th>user_type</th>\n",
       "      <th>start_weekday</th>\n",
       "      <th>started_hour</th>\n",
       "      <th>count</th>\n",
       "    </tr>\n",
       "  </thead>\n",
       "  <tbody>\n",
       "    <tr>\n",
       "      <th>0</th>\n",
       "      <td>casual</td>\n",
       "      <td>Friday</td>\n",
       "      <td>0</td>\n",
       "      <td>5310</td>\n",
       "    </tr>\n",
       "    <tr>\n",
       "      <th>1</th>\n",
       "      <td>casual</td>\n",
       "      <td>Friday</td>\n",
       "      <td>1</td>\n",
       "      <td>3209</td>\n",
       "    </tr>\n",
       "    <tr>\n",
       "      <th>2</th>\n",
       "      <td>casual</td>\n",
       "      <td>Friday</td>\n",
       "      <td>2</td>\n",
       "      <td>1857</td>\n",
       "    </tr>\n",
       "    <tr>\n",
       "      <th>3</th>\n",
       "      <td>casual</td>\n",
       "      <td>Friday</td>\n",
       "      <td>3</td>\n",
       "      <td>1175</td>\n",
       "    </tr>\n",
       "    <tr>\n",
       "      <th>4</th>\n",
       "      <td>casual</td>\n",
       "      <td>Friday</td>\n",
       "      <td>4</td>\n",
       "      <td>852</td>\n",
       "    </tr>\n",
       "    <tr>\n",
       "      <th>...</th>\n",
       "      <td>...</td>\n",
       "      <td>...</td>\n",
       "      <td>...</td>\n",
       "      <td>...</td>\n",
       "    </tr>\n",
       "    <tr>\n",
       "      <th>331</th>\n",
       "      <td>member</td>\n",
       "      <td>Wednesday</td>\n",
       "      <td>19</td>\n",
       "      <td>32848</td>\n",
       "    </tr>\n",
       "    <tr>\n",
       "      <th>332</th>\n",
       "      <td>member</td>\n",
       "      <td>Wednesday</td>\n",
       "      <td>20</td>\n",
       "      <td>23177</td>\n",
       "    </tr>\n",
       "    <tr>\n",
       "      <th>333</th>\n",
       "      <td>member</td>\n",
       "      <td>Wednesday</td>\n",
       "      <td>21</td>\n",
       "      <td>17640</td>\n",
       "    </tr>\n",
       "    <tr>\n",
       "      <th>334</th>\n",
       "      <td>member</td>\n",
       "      <td>Wednesday</td>\n",
       "      <td>22</td>\n",
       "      <td>12711</td>\n",
       "    </tr>\n",
       "    <tr>\n",
       "      <th>335</th>\n",
       "      <td>member</td>\n",
       "      <td>Wednesday</td>\n",
       "      <td>23</td>\n",
       "      <td>6857</td>\n",
       "    </tr>\n",
       "  </tbody>\n",
       "</table>\n",
       "<p>336 rows × 4 columns</p>\n",
       "</div>"
      ],
      "text/plain": [
       "    user_type start_weekday  started_hour  count\n",
       "0      casual        Friday             0   5310\n",
       "1      casual        Friday             1   3209\n",
       "2      casual        Friday             2   1857\n",
       "3      casual        Friday             3   1175\n",
       "4      casual        Friday             4    852\n",
       "..        ...           ...           ...    ...\n",
       "331    member     Wednesday            19  32848\n",
       "332    member     Wednesday            20  23177\n",
       "333    member     Wednesday            21  17640\n",
       "334    member     Wednesday            22  12711\n",
       "335    member     Wednesday            23   6857\n",
       "\n",
       "[336 rows x 4 columns]"
      ]
     },
     "execution_count": 42,
     "metadata": {},
     "output_type": "execute_result"
    }
   ],
   "source": [
    "#Create pivot table with started_hours count\n",
    "\n",
    "hours =pd.DataFrame(trips.groupby(['user_type', 'start_weekday', 'started_hour']).size().reset_index(name='count'))\n",
    "hours"
   ]
  },
  {
   "cell_type": "code",
   "execution_count": 75,
   "id": "9d1b1fbc",
   "metadata": {},
   "outputs": [
    {
     "data": {
      "text/html": [
       "<div>\n",
       "<style scoped>\n",
       "    .dataframe tbody tr th:only-of-type {\n",
       "        vertical-align: middle;\n",
       "    }\n",
       "\n",
       "    .dataframe tbody tr th {\n",
       "        vertical-align: top;\n",
       "    }\n",
       "\n",
       "    .dataframe thead th {\n",
       "        text-align: right;\n",
       "    }\n",
       "</style>\n",
       "<table border=\"1\" class=\"dataframe\">\n",
       "  <thead>\n",
       "    <tr style=\"text-align: right;\">\n",
       "      <th></th>\n",
       "      <th>user_type</th>\n",
       "      <th>start_weekday</th>\n",
       "      <th>started_hour</th>\n",
       "      <th>count</th>\n",
       "      <th>day_type</th>\n",
       "    </tr>\n",
       "  </thead>\n",
       "  <tbody>\n",
       "    <tr>\n",
       "      <th>0</th>\n",
       "      <td>casual</td>\n",
       "      <td>Friday</td>\n",
       "      <td>0</td>\n",
       "      <td>5310</td>\n",
       "      <td>Weekday</td>\n",
       "    </tr>\n",
       "    <tr>\n",
       "      <th>1</th>\n",
       "      <td>casual</td>\n",
       "      <td>Friday</td>\n",
       "      <td>1</td>\n",
       "      <td>3209</td>\n",
       "      <td>Weekday</td>\n",
       "    </tr>\n",
       "    <tr>\n",
       "      <th>2</th>\n",
       "      <td>casual</td>\n",
       "      <td>Friday</td>\n",
       "      <td>2</td>\n",
       "      <td>1857</td>\n",
       "      <td>Weekday</td>\n",
       "    </tr>\n",
       "    <tr>\n",
       "      <th>3</th>\n",
       "      <td>casual</td>\n",
       "      <td>Friday</td>\n",
       "      <td>3</td>\n",
       "      <td>1175</td>\n",
       "      <td>Weekday</td>\n",
       "    </tr>\n",
       "    <tr>\n",
       "      <th>4</th>\n",
       "      <td>casual</td>\n",
       "      <td>Friday</td>\n",
       "      <td>4</td>\n",
       "      <td>852</td>\n",
       "      <td>Weekday</td>\n",
       "    </tr>\n",
       "    <tr>\n",
       "      <th>...</th>\n",
       "      <td>...</td>\n",
       "      <td>...</td>\n",
       "      <td>...</td>\n",
       "      <td>...</td>\n",
       "      <td>...</td>\n",
       "    </tr>\n",
       "    <tr>\n",
       "      <th>331</th>\n",
       "      <td>member</td>\n",
       "      <td>Wednesday</td>\n",
       "      <td>19</td>\n",
       "      <td>32848</td>\n",
       "      <td>Weekday</td>\n",
       "    </tr>\n",
       "    <tr>\n",
       "      <th>332</th>\n",
       "      <td>member</td>\n",
       "      <td>Wednesday</td>\n",
       "      <td>20</td>\n",
       "      <td>23177</td>\n",
       "      <td>Weekday</td>\n",
       "    </tr>\n",
       "    <tr>\n",
       "      <th>333</th>\n",
       "      <td>member</td>\n",
       "      <td>Wednesday</td>\n",
       "      <td>21</td>\n",
       "      <td>17640</td>\n",
       "      <td>Weekday</td>\n",
       "    </tr>\n",
       "    <tr>\n",
       "      <th>334</th>\n",
       "      <td>member</td>\n",
       "      <td>Wednesday</td>\n",
       "      <td>22</td>\n",
       "      <td>12711</td>\n",
       "      <td>Weekday</td>\n",
       "    </tr>\n",
       "    <tr>\n",
       "      <th>335</th>\n",
       "      <td>member</td>\n",
       "      <td>Wednesday</td>\n",
       "      <td>23</td>\n",
       "      <td>6857</td>\n",
       "      <td>Weekday</td>\n",
       "    </tr>\n",
       "  </tbody>\n",
       "</table>\n",
       "<p>336 rows × 5 columns</p>\n",
       "</div>"
      ],
      "text/plain": [
       "    user_type start_weekday  started_hour  count day_type\n",
       "0      casual        Friday             0   5310  Weekday\n",
       "1      casual        Friday             1   3209  Weekday\n",
       "2      casual        Friday             2   1857  Weekday\n",
       "3      casual        Friday             3   1175  Weekday\n",
       "4      casual        Friday             4    852  Weekday\n",
       "..        ...           ...           ...    ...      ...\n",
       "331    member     Wednesday            19  32848  Weekday\n",
       "332    member     Wednesday            20  23177  Weekday\n",
       "333    member     Wednesday            21  17640  Weekday\n",
       "334    member     Wednesday            22  12711  Weekday\n",
       "335    member     Wednesday            23   6857  Weekday\n",
       "\n",
       "[336 rows x 5 columns]"
      ]
     },
     "execution_count": 75,
     "metadata": {},
     "output_type": "execute_result"
    }
   ],
   "source": [
    "#Adding a categorical column indicating weekday or weekend\n",
    "hours['day_type'] = hours['start_weekday'].apply(lambda x: 'Weekday' if x in \n",
    "                                                 ['Monday', 'Tuesday', 'Wednesday', 'Thursday', 'Friday'] else 'Weekend')\n",
    "hours"
   ]
  },
  {
   "cell_type": "code",
   "execution_count": 81,
   "id": "583da6de",
   "metadata": {},
   "outputs": [
    {
     "data": {
      "text/plain": [
       "<seaborn.axisgrid.FacetGrid at 0x1e2a72335b0>"
      ]
     },
     "execution_count": 81,
     "metadata": {},
     "output_type": "execute_result"
    },
    {
     "data": {
      "image/png": "[encoded data removed]",
      "text/plain": [
       "<Figure size 1114.67x432 with 2 Axes>"
      ]
     },
     "metadata": {
      "needs_background": "light"
     },
     "output_type": "display_data"
    }
   ],
   "source": [
    "# Calculate the mean trip duration for each user type and started hour separately for weekdays and weekends.\n",
    "h = sns.catplot(data=hours, kind='point', x='started_hour', y='count', hue='user_type',col='day_type', ci= None,\n",
    "                height=6, aspect=1.2, alpha=0.9, palette='husl')\n",
    "h.set(xlabel='Hours', ylabel='Avg Number of Rides')\n",
    "h.set_xticklabels(ha ='center')\n"
   ]
  },
  {
   "cell_type": "markdown",
   "id": "59a1d516",
   "metadata": {},
   "source": [
    "### Trip Duration by Month"
   ]
  },
  {
   "cell_type": "code",
   "execution_count": 85,
   "id": "47f3e246",
   "metadata": {},
   "outputs": [
    {
     "data": {
      "text/plain": [
       "<seaborn.axisgrid.FacetGrid at 0x1e2a721b4f0>"
      ]
     },
     "execution_count": 85,
     "metadata": {},
     "output_type": "execute_result"
    },
    {
     "data": {
      "image/png": "[encoded data removed]",
      "text/plain": [
       "<Figure size 855.475x432 with 1 Axes>"
      ]
     },
     "metadata": {
      "needs_background": "light"
     },
     "output_type": "display_data"
    }
   ],
   "source": [
    "# Trip duration by user type and month\n",
    "\n",
    "u = sns.catplot(data=trips, kind='point', x='start_month', y='trip_duration', hue='user_type',\n",
    "               ci=None, height=6, aspect=1.8, alpha=0.9, palette='husl')\n",
    "u.set(xlabel='Month of the year', ylabel='Average Trip Duration')\n",
    "u.set_xticklabels(ha='center')"
   ]
  },
  {
   "cell_type": "markdown",
   "id": "df1e7207",
   "metadata": {},
   "source": [
    "### Trip Duration by Day"
   ]
  },
  {
   "cell_type": "code",
   "execution_count": 88,
   "id": "0edae0dd",
   "metadata": {},
   "outputs": [
    {
     "data": {
      "text/plain": [
       "<seaborn.axisgrid.FacetGrid at 0x1e3529d2d60>"
      ]
     },
     "execution_count": 88,
     "metadata": {},
     "output_type": "execute_result"
    },
    {
     "data": {
      "image/png": "[encoded data removed]",
      "text/plain": [
       "<Figure size 855.475x432 with 1 Axes>"
      ]
     },
     "metadata": {
      "needs_background": "light"
     },
     "output_type": "display_data"
    }
   ],
   "source": [
    "order = ['Monday', 'Tuesday', 'Wednesday', 'Thursday', 'Friday', 'Saturday', 'Sunday']\n",
    "u = sns.catplot(data=trips, kind='bar', x='start_weekday', y='trip_duration', hue='user_type',\n",
    "               ci=None, order=order, height=6, aspect=1.8, alpha=0.9, palette='husl')\n",
    "u.set(xlabel='Day of the Week', ylabel='Average Trip Duration')\n",
    "u.set_xticklabels(ha='center')"
   ]
  }
 ],
 "metadata": {
  "kernelspec": {
   "display_name": "Python 3",
   "language": "python",
   "name": "python3"
  },
  "language_info": {
   "codemirror_mode": {
    "name": "ipython",
    "version": 3
   },
   "file_extension": ".py",
   "mimetype": "text/x-python",
   "name": "python",
   "nbconvert_exporter": "python",
   "pygments_lexer": "ipython3",
   "version": "3.8.8"
  },
  "toc": {
   "base_numbering": 1,
   "nav_menu": {},
   "number_sections": true,
   "sideBar": true,
   "skip_h1_title": false,
   "title_cell": "Table of Contents",
   "title_sidebar": "Contents",
   "toc_cell": false,
   "toc_position": {},
   "toc_section_display": true,
   "toc_window_display": false
  },
  "varInspector": {
   "cols": {
    "lenName": 16,
    "lenType": 16,
    "lenVar": 40
   },
   "kernels_config": {
    "python": {
     "delete_cmd_postfix": "",
     "delete_cmd_prefix": "del ",
     "library": "var_list.py",
     "varRefreshCmd": "print(var_dic_list())"
    },
    "r": {
     "delete_cmd_postfix": ") ",
     "delete_cmd_prefix": "rm(",
     "library": "var_list.r",
     "varRefreshCmd": "cat(var_dic_list()) "
    }
   },
   "types_to_exclude": [
    "module",
    "function",
    "builtin_function_or_method",
    "instance",
    "_Feature"
   ],
   "window_display": false
  }
 },
 "nbformat": 4,
 "nbformat_minor": 5
}
